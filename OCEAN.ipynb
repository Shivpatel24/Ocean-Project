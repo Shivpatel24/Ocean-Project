{
 "cells": [
  {
   "cell_type": "markdown",
   "metadata": {},
   "source": [
    "Narrabeen-Collaroy, Australia\n",
    "\n"
   ]
  },
  {
   "cell_type": "markdown",
   "metadata": {
    "jp-MarkdownHeadingCollapsed": true
   },
   "source": [
    "## Initial settings"
   ]
  },
  {
   "cell_type": "code",
   "execution_count": 1,
   "metadata": {
    "tags": []
   },
   "outputs": [],
   "source": [
    "\n",
    "import os\n",
    "import numpy as np\n",
    "import pickle\n",
    "import warnings\n",
    "warnings.filterwarnings(\"ignore\")\n",
    "import matplotlib\n",
    "matplotlib.use('Qt5Agg')\n",
    "import matplotlib.pyplot as plt\n",
    "from matplotlib import gridspec\n",
    "plt.ion()\n",
    "import pandas as pd\n",
    "from datetime import datetime\n",
    "import pytz\n",
    "from coastsat import SDS_download, SDS_preprocess, SDS_shoreline, SDS_tools, SDS_transects "
   ]
  },
  {
   "cell_type": "markdown",
   "metadata": {
    "jp-MarkdownHeadingCollapsed": true
   },
   "source": [
    "## Retrieval of the images from GEE\n",
    "\n"
   ]
  },
  {
   "cell_type": "code",
   "execution_count": 2,
   "metadata": {
    "tags": []
   },
   "outputs": [
    {
     "name": "stdout",
     "output_type": "stream",
     "text": [
      "GEE initialized (existing token).\n",
      "Number of images available between 2024-01-01 and 2024-10-01:\n",
      "- In Landsat Tier 1 & Sentinel-2 Level-1C:\n",
      "     L8: 30 images\n",
      "     L9: 27 images\n",
      "     S2: 94 images\n",
      "  Total to download: 151 images\n",
      "L8: 30/30 images already exist, 0 to be downloaded\n",
      "L9: 27/27 images already exist, 0 to be downloaded\n",
      "S2: 94/94 images already exist, 0 to be downloaded\n",
      "- In Landsat Tier 2 (not suitable for time-series analysis):\n",
      "     L8: 2 images\n",
      "  Total Tier 2: 2 images\n"
     ]
    },
    {
     "data": {
      "text/plain": [
       "({'L8': [], 'L9': [], 'S2': []},\n",
       " {'L8': [{'type': 'Image',\n",
       "    'bands': [{'id': 'B1',\n",
       "      'data_type': {'type': 'PixelType', 'precision': 'float'},\n",
       "      'dimensions': [7701, 7751],\n",
       "      'crs': 'EPSG:32656',\n",
       "      'crs_transform': [30, 0, 269385, 0, -30, -3555585]},\n",
       "     {'id': 'B2',\n",
       "      'data_type': {'type': 'PixelType', 'precision': 'float'},\n",
       "      'dimensions': [7701, 7751],\n",
       "      'crs': 'EPSG:32656',\n",
       "      'crs_transform': [30, 0, 269385, 0, -30, -3555585]},\n",
       "     {'id': 'B3',\n",
       "      'data_type': {'type': 'PixelType', 'precision': 'float'},\n",
       "      'dimensions': [7701, 7751],\n",
       "      'crs': 'EPSG:32656',\n",
       "      'crs_transform': [30, 0, 269385, 0, -30, -3555585]},\n",
       "     {'id': 'B4',\n",
       "      'data_type': {'type': 'PixelType', 'precision': 'float'},\n",
       "      'dimensions': [7701, 7751],\n",
       "      'crs': 'EPSG:32656',\n",
       "      'crs_transform': [30, 0, 269385, 0, -30, -3555585]},\n",
       "     {'id': 'B5',\n",
       "      'data_type': {'type': 'PixelType', 'precision': 'float'},\n",
       "      'dimensions': [7701, 7751],\n",
       "      'crs': 'EPSG:32656',\n",
       "      'crs_transform': [30, 0, 269385, 0, -30, -3555585]},\n",
       "     {'id': 'B6',\n",
       "      'data_type': {'type': 'PixelType', 'precision': 'float'},\n",
       "      'dimensions': [7701, 7751],\n",
       "      'crs': 'EPSG:32656',\n",
       "      'crs_transform': [30, 0, 269385, 0, -30, -3555585]},\n",
       "     {'id': 'B7',\n",
       "      'data_type': {'type': 'PixelType', 'precision': 'float'},\n",
       "      'dimensions': [7701, 7751],\n",
       "      'crs': 'EPSG:32656',\n",
       "      'crs_transform': [30, 0, 269385, 0, -30, -3555585]},\n",
       "     {'id': 'B8',\n",
       "      'data_type': {'type': 'PixelType', 'precision': 'float'},\n",
       "      'dimensions': [15401, 15501],\n",
       "      'crs': 'EPSG:32656',\n",
       "      'crs_transform': [15, 0, 269392.5, 0, -15, -3555592.5]},\n",
       "     {'id': 'B9',\n",
       "      'data_type': {'type': 'PixelType', 'precision': 'float'},\n",
       "      'dimensions': [7701, 7751],\n",
       "      'crs': 'EPSG:32656',\n",
       "      'crs_transform': [30, 0, 269385, 0, -30, -3555585]},\n",
       "     {'id': 'B10',\n",
       "      'data_type': {'type': 'PixelType', 'precision': 'float'},\n",
       "      'dimensions': [7701, 7751],\n",
       "      'crs': 'EPSG:32656',\n",
       "      'crs_transform': [30, 0, 269385, 0, -30, -3555585]},\n",
       "     {'id': 'B11',\n",
       "      'data_type': {'type': 'PixelType', 'precision': 'float'},\n",
       "      'dimensions': [7701, 7751],\n",
       "      'crs': 'EPSG:32656',\n",
       "      'crs_transform': [30, 0, 269385, 0, -30, -3555585]},\n",
       "     {'id': 'QA_PIXEL',\n",
       "      'data_type': {'type': 'PixelType',\n",
       "       'precision': 'int',\n",
       "       'min': 0,\n",
       "       'max': 65535},\n",
       "      'dimensions': [7701, 7751],\n",
       "      'crs': 'EPSG:32656',\n",
       "      'crs_transform': [30, 0, 269385, 0, -30, -3555585]},\n",
       "     {'id': 'QA_RADSAT',\n",
       "      'data_type': {'type': 'PixelType',\n",
       "       'precision': 'int',\n",
       "       'min': 0,\n",
       "       'max': 65535},\n",
       "      'dimensions': [7701, 7751],\n",
       "      'crs': 'EPSG:32656',\n",
       "      'crs_transform': [30, 0, 269385, 0, -30, -3555585]},\n",
       "     {'id': 'SAA',\n",
       "      'data_type': {'type': 'PixelType',\n",
       "       'precision': 'int',\n",
       "       'min': -32768,\n",
       "       'max': 32767},\n",
       "      'dimensions': [7701, 7751],\n",
       "      'crs': 'EPSG:32656',\n",
       "      'crs_transform': [30, 0, 269385, 0, -30, -3555585]},\n",
       "     {'id': 'SZA',\n",
       "      'data_type': {'type': 'PixelType',\n",
       "       'precision': 'int',\n",
       "       'min': -32768,\n",
       "       'max': 32767},\n",
       "      'dimensions': [7701, 7751],\n",
       "      'crs': 'EPSG:32656',\n",
       "      'crs_transform': [30, 0, 269385, 0, -30, -3555585]},\n",
       "     {'id': 'VAA',\n",
       "      'data_type': {'type': 'PixelType',\n",
       "       'precision': 'int',\n",
       "       'min': -32768,\n",
       "       'max': 32767},\n",
       "      'dimensions': [7701, 7751],\n",
       "      'crs': 'EPSG:32656',\n",
       "      'crs_transform': [30, 0, 269385, 0, -30, -3555585]},\n",
       "     {'id': 'VZA',\n",
       "      'data_type': {'type': 'PixelType',\n",
       "       'precision': 'int',\n",
       "       'min': -32768,\n",
       "       'max': 32767},\n",
       "      'dimensions': [7701, 7751],\n",
       "      'crs': 'EPSG:32656',\n",
       "      'crs_transform': [30, 0, 269385, 0, -30, -3555585]}],\n",
       "    'version': 1744667548280959,\n",
       "    'id': 'LANDSAT/LC08/C02/T2_TOA/LC08_089083_20240205',\n",
       "    'properties': {'RADIANCE_MULT_BAND_5': 0.0062888,\n",
       "     'RADIANCE_MULT_BAND_6': 0.001564,\n",
       "     'RADIANCE_MULT_BAND_3': 0.012187,\n",
       "     'RADIANCE_MULT_BAND_4': 0.010277,\n",
       "     'RADIANCE_MULT_BAND_1': 0.012915,\n",
       "     'RADIANCE_MULT_BAND_2': 0.013225,\n",
       "     'WRS_TYPE': 2,\n",
       "     'K2_CONSTANT_BAND_11': 1201.1442,\n",
       "     'K2_CONSTANT_BAND_10': 1321.0789,\n",
       "     'system:footprint': {'type': 'LinearRing',\n",
       "      'coordinates': [[152.39008685557465, -34.202228086104355],\n",
       "       [152.54653254347198, -34.2313176200767],\n",
       "       [152.54837121351608, -34.23132440348314],\n",
       "       [152.99986728875098, -32.51308050751966],\n",
       "       [152.99986728875098, -32.51090884064479],\n",
       "       [151.18211416952394, -32.158138123120814],\n",
       "       [151.01349099652072, -32.12395701715676],\n",
       "       [151.0038420064037, -32.122038002092204],\n",
       "       [151.00318752376404, -32.12310211183072],\n",
       "       [150.99847868801263, -32.139246756994886],\n",
       "       [150.90520900711897, -32.46759318795383],\n",
       "       [150.75144162081364, -33.006687308149374],\n",
       "       [150.6436957996787, -33.38003257273609],\n",
       "       [150.57626381044352, -33.613252216697944],\n",
       "       [150.54399203574465, -33.72500227642181],\n",
       "       [150.51204347091502, -33.83562735720372],\n",
       "       [150.51452453367514, -33.83637365636432],\n",
       "       [151.01412438333773, -33.9369119834804],\n",
       "       [152.39008685557465, -34.202228086104355]]},\n",
       "     'REFLECTIVE_SAMPLES': 7701,\n",
       "     'SUN_AZIMUTH': 70.5434048,\n",
       "     'DATA_SOURCE_TIRS_STRAY_LIGHT_CORRECTION': 'TIRS',\n",
       "     'DATE_ACQUIRED': '2024-02-05',\n",
       "     'ELLIPSOID': 'WGS84',\n",
       "     'STATION_ID': 'LGN',\n",
       "     'RESAMPLING_OPTION': 'CUBIC_CONVOLUTION',\n",
       "     'ORIENTATION': 'NORTH_UP',\n",
       "     'WRS_ROW': 83,\n",
       "     'RADIANCE_MULT_BAND_9': 0.0024578,\n",
       "     'TARGET_WRS_ROW': 83,\n",
       "     'RADIANCE_MULT_BAND_7': 0.00052714,\n",
       "     'RADIANCE_MULT_BAND_8': 0.01163,\n",
       "     'IMAGE_QUALITY_TIRS': 9,\n",
       "     'TRUNCATION_OLI': 'UPPER',\n",
       "     'CLOUD_COVER': 64.64,\n",
       "     'COLLECTION_CATEGORY': 'T2',\n",
       "     'GRID_CELL_SIZE_REFLECTIVE': 30,\n",
       "     'CLOUD_COVER_LAND': 64.54,\n",
       "     'COLLECTION_NUMBER': 2,\n",
       "     'IMAGE_QUALITY_OLI': 9,\n",
       "     'LANDSAT_SCENE_ID': 'LC80890832024036LGN00',\n",
       "     'WRS_PATH': 89,\n",
       "     'PANCHROMATIC_SAMPLES': 15401,\n",
       "     'PANCHROMATIC_LINES': 15501,\n",
       "     'REFLECTIVE_LINES': 7751,\n",
       "     'system:asset_size': 1386143153,\n",
       "     'system:index': 'LC08_089083_20240205',\n",
       "     'DATA_SOURCE_ELEVATION': 'GLS2000',\n",
       "     'REFLECTANCE_ADD_BAND_1': -0.1,\n",
       "     'REFLECTANCE_ADD_BAND_2': -0.1,\n",
       "     'DATUM': 'WGS84',\n",
       "     'REFLECTANCE_ADD_BAND_3': -0.1,\n",
       "     'REFLECTANCE_ADD_BAND_4': -0.1,\n",
       "     'REFLECTANCE_ADD_BAND_5': -0.1,\n",
       "     'REFLECTANCE_ADD_BAND_6': -0.1,\n",
       "     'REFLECTANCE_ADD_BAND_7': -0.1,\n",
       "     'REFLECTANCE_ADD_BAND_8': -0.1,\n",
       "     'UTM_ZONE': 56,\n",
       "     'system:time_end': 1707176629131,\n",
       "     'LANDSAT_PRODUCT_ID': 'LC08_L1GT_089083_20240205_20240212_02_T2',\n",
       "     'REFLECTANCE_ADD_BAND_9': -0.1,\n",
       "     'GRID_CELL_SIZE_PANCHROMATIC': 15,\n",
       "     'RADIANCE_ADD_BAND_4': -51.38349,\n",
       "     'REFLECTANCE_MULT_BAND_7': 2e-05,\n",
       "     'system:time_start': 1707176629131,\n",
       "     'RADIANCE_ADD_BAND_5': -31.44413,\n",
       "     'REFLECTANCE_MULT_BAND_6': 2e-05,\n",
       "     'RADIANCE_ADD_BAND_6': -7.81987,\n",
       "     'REFLECTANCE_MULT_BAND_9': 2e-05,\n",
       "     'PROCESSING_SOFTWARE_VERSION': 'LPGS_16.3.1',\n",
       "     'RADIANCE_ADD_BAND_7': -2.63571,\n",
       "     'REFLECTANCE_MULT_BAND_8': 2e-05,\n",
       "     'RADIANCE_ADD_BAND_1': -64.57546,\n",
       "     'RADIANCE_ADD_BAND_2': -66.12606,\n",
       "     'RADIANCE_ADD_BAND_3': -60.9346,\n",
       "     'REFLECTANCE_MULT_BAND_1': 2e-05,\n",
       "     'RADIANCE_ADD_BAND_8': -58.15197,\n",
       "     'REFLECTANCE_MULT_BAND_3': 2e-05,\n",
       "     'RADIANCE_ADD_BAND_9': -12.28908,\n",
       "     'REFLECTANCE_MULT_BAND_2': 2e-05,\n",
       "     'REFLECTANCE_MULT_BAND_5': 2e-05,\n",
       "     'REFLECTANCE_MULT_BAND_4': 2e-05,\n",
       "     'THERMAL_LINES': 7751,\n",
       "     'TIRS_SSM_POSITION_STATUS': 'ESTIMATED',\n",
       "     'GRID_CELL_SIZE_THERMAL': 30,\n",
       "     'NADIR_OFFNADIR': 'NADIR',\n",
       "     'RADIANCE_ADD_BAND_11': 0.1,\n",
       "     'REQUEST_ID': '1850512_00012',\n",
       "     'EARTH_SUN_DISTANCE': 0.9859903,\n",
       "     'TIRS_SSM_MODEL': 'FINAL',\n",
       "     'SCENE_CENTER_TIME': '23:43:49.1316050Z',\n",
       "     'SUN_ELEVATION': 53.38874348,\n",
       "     'RADIANCE_ADD_BAND_10': 0.1,\n",
       "     'ROLL_ANGLE': 0,\n",
       "     'DATE_PRODUCT_GENERATED': 1707767168000,\n",
       "     'K1_CONSTANT_BAND_10': 774.8853,\n",
       "     'SATURATION_BAND_1': 'N',\n",
       "     'SATURATION_BAND_2': 'N',\n",
       "     'SATURATION_BAND_3': 'N',\n",
       "     'SATURATION_BAND_4': 'N',\n",
       "     'SATURATION_BAND_5': 'Y',\n",
       "     'MAP_PROJECTION': 'UTM',\n",
       "     'SATURATION_BAND_6': 'N',\n",
       "     'SENSOR_ID': 'OLI_TIRS',\n",
       "     'SATURATION_BAND_7': 'N',\n",
       "     'K1_CONSTANT_BAND_11': 480.8883,\n",
       "     'SATURATION_BAND_8': 'N',\n",
       "     'SATURATION_BAND_9': 'N',\n",
       "     'TARGET_WRS_PATH': 89,\n",
       "     'PROCESSING_LEVEL': 'L1GT',\n",
       "     'RADIANCE_MULT_BAND_11': 0.0003342,\n",
       "     'RADIANCE_MULT_BAND_10': 0.0003342,\n",
       "     'SPACECRAFT_ID': 'LANDSAT_8',\n",
       "     'THERMAL_SAMPLES': 7701}},\n",
       "   {'type': 'Image',\n",
       "    'bands': [{'id': 'B1',\n",
       "      'data_type': {'type': 'PixelType', 'precision': 'float'},\n",
       "      'dimensions': [7691, 7751],\n",
       "      'crs': 'EPSG:32656',\n",
       "      'crs_transform': [30, 0, 271785, 0, -30, -3555585]},\n",
       "     {'id': 'B2',\n",
       "      'data_type': {'type': 'PixelType', 'precision': 'float'},\n",
       "      'dimensions': [7691, 7751],\n",
       "      'crs': 'EPSG:32656',\n",
       "      'crs_transform': [30, 0, 271785, 0, -30, -3555585]},\n",
       "     {'id': 'B3',\n",
       "      'data_type': {'type': 'PixelType', 'precision': 'float'},\n",
       "      'dimensions': [7691, 7751],\n",
       "      'crs': 'EPSG:32656',\n",
       "      'crs_transform': [30, 0, 271785, 0, -30, -3555585]},\n",
       "     {'id': 'B4',\n",
       "      'data_type': {'type': 'PixelType', 'precision': 'float'},\n",
       "      'dimensions': [7691, 7751],\n",
       "      'crs': 'EPSG:32656',\n",
       "      'crs_transform': [30, 0, 271785, 0, -30, -3555585]},\n",
       "     {'id': 'B5',\n",
       "      'data_type': {'type': 'PixelType', 'precision': 'float'},\n",
       "      'dimensions': [7691, 7751],\n",
       "      'crs': 'EPSG:32656',\n",
       "      'crs_transform': [30, 0, 271785, 0, -30, -3555585]},\n",
       "     {'id': 'B6',\n",
       "      'data_type': {'type': 'PixelType', 'precision': 'float'},\n",
       "      'dimensions': [7691, 7751],\n",
       "      'crs': 'EPSG:32656',\n",
       "      'crs_transform': [30, 0, 271785, 0, -30, -3555585]},\n",
       "     {'id': 'B7',\n",
       "      'data_type': {'type': 'PixelType', 'precision': 'float'},\n",
       "      'dimensions': [7691, 7751],\n",
       "      'crs': 'EPSG:32656',\n",
       "      'crs_transform': [30, 0, 271785, 0, -30, -3555585]},\n",
       "     {'id': 'B8',\n",
       "      'data_type': {'type': 'PixelType', 'precision': 'float'},\n",
       "      'dimensions': [15381, 15501],\n",
       "      'crs': 'EPSG:32656',\n",
       "      'crs_transform': [15, 0, 271792.5, 0, -15, -3555592.5]},\n",
       "     {'id': 'B9',\n",
       "      'data_type': {'type': 'PixelType', 'precision': 'float'},\n",
       "      'dimensions': [7691, 7751],\n",
       "      'crs': 'EPSG:32656',\n",
       "      'crs_transform': [30, 0, 271785, 0, -30, -3555585]},\n",
       "     {'id': 'B10',\n",
       "      'data_type': {'type': 'PixelType', 'precision': 'float'},\n",
       "      'dimensions': [7691, 7751],\n",
       "      'crs': 'EPSG:32656',\n",
       "      'crs_transform': [30, 0, 271785, 0, -30, -3555585]},\n",
       "     {'id': 'B11',\n",
       "      'data_type': {'type': 'PixelType', 'precision': 'float'},\n",
       "      'dimensions': [7691, 7751],\n",
       "      'crs': 'EPSG:32656',\n",
       "      'crs_transform': [30, 0, 271785, 0, -30, -3555585]},\n",
       "     {'id': 'QA_PIXEL',\n",
       "      'data_type': {'type': 'PixelType',\n",
       "       'precision': 'int',\n",
       "       'min': 0,\n",
       "       'max': 65535},\n",
       "      'dimensions': [7691, 7751],\n",
       "      'crs': 'EPSG:32656',\n",
       "      'crs_transform': [30, 0, 271785, 0, -30, -3555585]},\n",
       "     {'id': 'QA_RADSAT',\n",
       "      'data_type': {'type': 'PixelType',\n",
       "       'precision': 'int',\n",
       "       'min': 0,\n",
       "       'max': 65535},\n",
       "      'dimensions': [7691, 7751],\n",
       "      'crs': 'EPSG:32656',\n",
       "      'crs_transform': [30, 0, 271785, 0, -30, -3555585]},\n",
       "     {'id': 'SAA',\n",
       "      'data_type': {'type': 'PixelType',\n",
       "       'precision': 'int',\n",
       "       'min': -32768,\n",
       "       'max': 32767},\n",
       "      'dimensions': [7691, 7751],\n",
       "      'crs': 'EPSG:32656',\n",
       "      'crs_transform': [30, 0, 271785, 0, -30, -3555585]},\n",
       "     {'id': 'SZA',\n",
       "      'data_type': {'type': 'PixelType',\n",
       "       'precision': 'int',\n",
       "       'min': -32768,\n",
       "       'max': 32767},\n",
       "      'dimensions': [7691, 7751],\n",
       "      'crs': 'EPSG:32656',\n",
       "      'crs_transform': [30, 0, 271785, 0, -30, -3555585]},\n",
       "     {'id': 'VAA',\n",
       "      'data_type': {'type': 'PixelType',\n",
       "       'precision': 'int',\n",
       "       'min': -32768,\n",
       "       'max': 32767},\n",
       "      'dimensions': [7691, 7751],\n",
       "      'crs': 'EPSG:32656',\n",
       "      'crs_transform': [30, 0, 271785, 0, -30, -3555585]},\n",
       "     {'id': 'VZA',\n",
       "      'data_type': {'type': 'PixelType',\n",
       "       'precision': 'int',\n",
       "       'min': -32768,\n",
       "       'max': 32767},\n",
       "      'dimensions': [7691, 7751],\n",
       "      'crs': 'EPSG:32656',\n",
       "      'crs_transform': [30, 0, 271785, 0, -30, -3555585]}],\n",
       "    'version': 1744667548280959,\n",
       "    'id': 'LANDSAT/LC08/C02/T2_TOA/LC08_089083_20240511',\n",
       "    'properties': {'RADIANCE_MULT_BAND_5': 0.0059909,\n",
       "     'RADIANCE_MULT_BAND_6': 0.0014899,\n",
       "     'RADIANCE_MULT_BAND_3': 0.01161,\n",
       "     'RADIANCE_MULT_BAND_4': 0.0097899,\n",
       "     'RADIANCE_MULT_BAND_1': 0.012303,\n",
       "     'RADIANCE_MULT_BAND_2': 0.012599,\n",
       "     'WRS_TYPE': 2,\n",
       "     'K2_CONSTANT_BAND_11': 1201.1442,\n",
       "     'K2_CONSTANT_BAND_10': 1321.0789,\n",
       "     'system:footprint': {'type': 'LinearRing',\n",
       "      'coordinates': [[153.0234380676068, -32.510823609471075],\n",
       "       [153.00660865000987, -32.50765672950094],\n",
       "       [151.63806309344037, -32.244969007896465],\n",
       "       [151.26312626845535, -32.170152192901995],\n",
       "       [151.02934918755085, -32.12288882085816],\n",
       "       [151.02682126868962, -32.12284943568117],\n",
       "       [151.02153487366584, -32.14070109934123],\n",
       "       [150.91997249918762, -32.49868162830184],\n",
       "       [150.80524907337005, -32.90173228849658],\n",
       "       [150.66168275794467, -33.400660730469745],\n",
       "       [150.60017427696994, -33.61371869172397],\n",
       "       [150.56632805902592, -33.730719090312924],\n",
       "       [150.5523265444335, -33.77912925167422],\n",
       "       [150.53776309427448, -33.82955624760838],\n",
       "       [150.5359874553997, -33.836532425297555],\n",
       "       [151.21509141619708, -33.972452760865046],\n",
       "       [152.57198743823, -34.23164298461034],\n",
       "       [153.0234380676068, -32.510823609471075]]},\n",
       "     'REFLECTIVE_SAMPLES': 7691,\n",
       "     'SUN_AZIMUTH': 35.21816209,\n",
       "     'DATA_SOURCE_TIRS_STRAY_LIGHT_CORRECTION': 'TIRS',\n",
       "     'DATE_ACQUIRED': '2024-05-11',\n",
       "     'ELLIPSOID': 'WGS84',\n",
       "     'STATION_ID': 'LGN',\n",
       "     'RESAMPLING_OPTION': 'CUBIC_CONVOLUTION',\n",
       "     'ORIENTATION': 'NORTH_UP',\n",
       "     'WRS_ROW': 83,\n",
       "     'RADIANCE_MULT_BAND_9': 0.0023414,\n",
       "     'TARGET_WRS_ROW': 83,\n",
       "     'RADIANCE_MULT_BAND_7': 0.00050217,\n",
       "     'RADIANCE_MULT_BAND_8': 0.011079,\n",
       "     'IMAGE_QUALITY_TIRS': 9,\n",
       "     'TRUNCATION_OLI': 'UPPER',\n",
       "     'CLOUD_COVER': 84.93,\n",
       "     'COLLECTION_CATEGORY': 'T2',\n",
       "     'GRID_CELL_SIZE_REFLECTIVE': 30,\n",
       "     'CLOUD_COVER_LAND': 84.55,\n",
       "     'COLLECTION_NUMBER': 2,\n",
       "     'IMAGE_QUALITY_OLI': 9,\n",
       "     'LANDSAT_SCENE_ID': 'LC80890832024132LGN00',\n",
       "     'WRS_PATH': 89,\n",
       "     'PANCHROMATIC_SAMPLES': 15381,\n",
       "     'PANCHROMATIC_LINES': 15501,\n",
       "     'REFLECTIVE_LINES': 7751,\n",
       "     'system:asset_size': 1337398423,\n",
       "     'system:index': 'LC08_089083_20240511',\n",
       "     'DATA_SOURCE_ELEVATION': 'GLS2000',\n",
       "     'REFLECTANCE_ADD_BAND_1': -0.1,\n",
       "     'REFLECTANCE_ADD_BAND_2': -0.1,\n",
       "     'DATUM': 'WGS84',\n",
       "     'REFLECTANCE_ADD_BAND_3': -0.1,\n",
       "     'REFLECTANCE_ADD_BAND_4': -0.1,\n",
       "     'REFLECTANCE_ADD_BAND_5': -0.1,\n",
       "     'REFLECTANCE_ADD_BAND_6': -0.1,\n",
       "     'REFLECTANCE_ADD_BAND_7': -0.1,\n",
       "     'REFLECTANCE_ADD_BAND_8': -0.1,\n",
       "     'UTM_ZONE': 56,\n",
       "     'system:time_end': 1715470976875,\n",
       "     'LANDSAT_PRODUCT_ID': 'LC08_L1GT_089083_20240511_20240520_02_T2',\n",
       "     'REFLECTANCE_ADD_BAND_9': -0.1,\n",
       "     'GRID_CELL_SIZE_PANCHROMATIC': 15,\n",
       "     'RADIANCE_ADD_BAND_4': -48.94933,\n",
       "     'REFLECTANCE_MULT_BAND_7': 2e-05,\n",
       "     'system:time_start': 1715470976875,\n",
       "     'RADIANCE_ADD_BAND_5': -29.95455,\n",
       "     'REFLECTANCE_MULT_BAND_6': 2e-05,\n",
       "     'RADIANCE_ADD_BAND_6': -7.44942,\n",
       "     'REFLECTANCE_MULT_BAND_9': 2e-05,\n",
       "     'PROCESSING_SOFTWARE_VERSION': 'LPGS_16.4.0',\n",
       "     'RADIANCE_ADD_BAND_7': -2.51085,\n",
       "     'REFLECTANCE_MULT_BAND_8': 2e-05,\n",
       "     'RADIANCE_ADD_BAND_1': -61.51637,\n",
       "     'RADIANCE_ADD_BAND_2': -62.99352,\n",
       "     'RADIANCE_ADD_BAND_3': -58.04799,\n",
       "     'REFLECTANCE_MULT_BAND_1': 2e-05,\n",
       "     'RADIANCE_ADD_BAND_8': -55.39717,\n",
       "     'REFLECTANCE_MULT_BAND_3': 2e-05,\n",
       "     'RADIANCE_ADD_BAND_9': -11.70692,\n",
       "     'REFLECTANCE_MULT_BAND_2': 2e-05,\n",
       "     'REFLECTANCE_MULT_BAND_5': 2e-05,\n",
       "     'REFLECTANCE_MULT_BAND_4': 2e-05,\n",
       "     'THERMAL_LINES': 7751,\n",
       "     'TIRS_SSM_POSITION_STATUS': 'ESTIMATED',\n",
       "     'GRID_CELL_SIZE_THERMAL': 30,\n",
       "     'NADIR_OFFNADIR': 'NADIR',\n",
       "     'RADIANCE_ADD_BAND_11': 0.1,\n",
       "     'REQUEST_ID': '1888119_00012',\n",
       "     'EARTH_SUN_DISTANCE': 1.0102086,\n",
       "     'TIRS_SSM_MODEL': 'FINAL',\n",
       "     'SCENE_CENTER_TIME': '23:42:56.8753810Z',\n",
       "     'SUN_ELEVATION': 30.43050062,\n",
       "     'RADIANCE_ADD_BAND_10': 0.1,\n",
       "     'ROLL_ANGLE': 0,\n",
       "     'DATE_PRODUCT_GENERATED': 1716234660000,\n",
       "     'K1_CONSTANT_BAND_10': 774.8853,\n",
       "     'SATURATION_BAND_1': 'N',\n",
       "     'SATURATION_BAND_2': 'N',\n",
       "     'SATURATION_BAND_3': 'N',\n",
       "     'SATURATION_BAND_4': 'N',\n",
       "     'SATURATION_BAND_5': 'N',\n",
       "     'MAP_PROJECTION': 'UTM',\n",
       "     'SATURATION_BAND_6': 'N',\n",
       "     'SENSOR_ID': 'OLI_TIRS',\n",
       "     'SATURATION_BAND_7': 'N',\n",
       "     'K1_CONSTANT_BAND_11': 480.8883,\n",
       "     'SATURATION_BAND_8': 'N',\n",
       "     'SATURATION_BAND_9': 'N',\n",
       "     'TARGET_WRS_PATH': 89,\n",
       "     'PROCESSING_LEVEL': 'L1GT',\n",
       "     'RADIANCE_MULT_BAND_11': 0.0003342,\n",
       "     'RADIANCE_MULT_BAND_10': 0.0003342,\n",
       "     'SPACECRAFT_ID': 'LANDSAT_8',\n",
       "     'THERMAL_SAMPLES': 7691}}]})"
      ]
     },
     "execution_count": 2,
     "metadata": {},
     "output_type": "execute_result"
    }
   ],
   "source": [
    "# region of interest (longitude, latitude)\n",
    "polygon = [[[151.2957545, -33.7012561],\n",
    "            [151.297557, -33.7388075],\n",
    "            [151.312234, -33.7390216],\n",
    "            [151.311204, -33.701399],\n",
    "            [151.2957545, -33.7012561]]]\n",
    "# it's recommended to convert the polygon to the smallest rectangle (sides parallel to coordinate axes)       \n",
    "polygon = SDS_tools.smallest_rectangle(polygon)\n",
    "# or load from .geojson\n",
    "# geojson_polygon = os.path.join(os.getcwd(), 'examples', 'NARRA_polygon.geojson')\n",
    "# polygon = SDS_tools.polygon_from_geojson(geojson_polygon)\n",
    "# or load from .kml\n",
    "# kml_polygon = os.path.join(os.getcwd(), 'examples', 'NARRA_polygon.kml')\n",
    "# polygon = SDS_tools.polygon_from_kml(kml_polygon)\n",
    "# date range\n",
    "dates = ['2024-01-01', '2024-10-01']\n",
    "# satellite missions ['L5','L7','L8','L9','S2']\n",
    "sat_list = ['L8','L9','S2']\n",
    "# name of the site\n",
    "sitename = 'NARRA'\n",
    "# directory where the data will be stored\n",
    "filepath = \"B:\\Project Ocean\\CoastSat-master\\CoastSat-master\\data\"\n",
    "# put all the inputs into a dictionnary\n",
    "inputs = {'polygon': polygon, 'dates': dates, 'sat_list': sat_list,\n",
    "          'sitename': sitename, 'filepath':filepath}\n",
    "# optionally, you can select your Sentinel-2 or Landsat tile to avoid duplicates from multiple tiles\n",
    "# inputs['S2tile'] = '56HLH'\n",
    "# inputs['LandsatWRS'] = '089083'\n",
    "# before downloading the images, check how many images are available for your inputs\n",
    "SDS_download.check_images_available(inputs)"
   ]
  },
  {
   "cell_type": "markdown",
   "metadata": {},
   "source": []
  },
  {
   "cell_type": "code",
   "execution_count": 4,
   "metadata": {
    "tags": []
   },
   "outputs": [
    {
     "name": "stdout",
     "output_type": "stream",
     "text": [
      "GEE initialized (existing token).\n",
      "Number of images available between 2024-01-01 and 2024-10-01:\n",
      "- In Landsat Tier 1 & Sentinel-2 Level-1C:\n",
      "     L8: 30 images\n",
      "     L9: 27 images\n",
      "     S2: 94 images\n",
      "  Total to download: 151 images\n",
      "- In Landsat Tier 2 (not suitable for time-series analysis):\n",
      "     L8: 2 images\n",
      "  Total Tier 2: 2 images\n",
      "\n",
      "Downloading images:\n",
      "L8: 30 images\n",
      "100%\n",
      "L9: 27 images\n",
      "100%\n",
      "S2: 94 images\n",
      "100%\n",
      "Satellite images downloaded from GEE and save in C:\\Users\\kilia\\Documents\\GitHub\\CoastSat\\data\\NARRA\n"
     ]
    }
   ],
   "source": [
    "metadata = SDS_download.retrieve_images(inputs)"
   ]
  },
  {
   "cell_type": "code",
   "execution_count": 3,
   "metadata": {
    "tags": []
   },
   "outputs": [],
   "source": [
    "metadata = SDS_download.get_metadata(inputs)"
   ]
  },
  {
   "cell_type": "markdown",
   "metadata": {
    "jp-MarkdownHeadingCollapsed": true,
    "tags": []
   },
   "source": [
    "## Shoreline extraction\n"
   ]
  },
  {
   "cell_type": "code",
   "execution_count": 4,
   "metadata": {
    "tags": []
   },
   "outputs": [],
   "source": [
    "settings = {\n",
    "    # general parameters:\n",
    "    'cloud_thresh': 0.5,        \n",
    "    'dist_clouds': 300,        \n",
    "    'output_epsg': 28356,       \n",
    "    # quality control:\n",
    "    'check_detection': True,    \n",
    "    'adjust_detection': False, \n",
    "    'save_figure': True,        \n",
    "    # [ONLY FOR ADVANCED USERS] \n",
    "    'min_beach_area': 1000,     \n",
    "    'min_length_sl': 500,       \n",
    "    'cloud_mask_issue': False,  \n",
    "    'sand_color': 'default',   \n",
    "    'pan_off': False,          \n",
    "    's2cloudless_prob': 60,     \n",
    "    # add the inputs defined previously\n",
    "    'inputs': inputs,\n",
    "}"
   ]
  },
  {
   "cell_type": "code",
   "execution_count": 8,
   "metadata": {
    "tags": []
   },
   "outputs": [
    {
     "name": "stdout",
     "output_type": "stream",
     "text": [
      "Saving images as jpg:\n",
      "L8: 30 images\n",
      "100%\n",
      "L9: 27 images\n",
      "100%\n",
      "S2: 94 images\n",
      "100%\n",
      "Satellite images saved as .jpg in B:\\Project Ocean\\CoastSat-master\\CoastSat-master\\data\\NARRA\\jpg_files\\preprocessed\n"
     ]
    }
   ],
   "source": [
    "SDS_preprocess.save_jpg(metadata, settings, use_matplotlib=True)"
   ]
  },
  {
   "cell_type": "code",
   "execution_count": 9,
   "metadata": {
    "tags": []
   },
   "outputs": [
    {
     "name": "stdout",
     "output_type": "stream",
     "text": [
      "Animation has been generated (using 4 frames per second) and saved at B:\\Project Ocean\\CoastSat-master\\CoastSat-master\\data\\NARRA\\NARRA_animation_RGB.gif\n"
     ]
    }
   ],
   "source": [
    "# create timelapse animation\n",
    "fn_animation = os.path.join(inputs['filepath'],inputs['sitename'], '%s_animation_RGB.gif'%inputs['sitename'])\n",
    "fp_images = os.path.join(inputs['filepath'], inputs['sitename'], 'jpg_files', 'preprocessed')\n",
    "fps = 4 # frames per second in animation\n",
    "SDS_tools.make_animation_mp4(fp_images, fps, fn_animation)"
   ]
  },
  {
   "cell_type": "markdown",
   "metadata": {
    "jp-MarkdownHeadingCollapsed": true
   },
   "source": [
    "### Digitize a reference shoreline"
   ]
  },
  {
   "cell_type": "code",
   "execution_count": 5,
   "metadata": {
    "tags": []
   },
   "outputs": [
    {
     "name": "stdout",
     "output_type": "stream",
     "text": [
      "Reference shoreline already exists and was loaded\n",
      "Reference shoreline coordinates are in epsg:28356\n"
     ]
    }
   ],
   "source": [
    "%matplotlib qt\n",
    "settings['reference_shoreline'] = SDS_preprocess.get_reference_sl(metadata, settings)\n",
    "settings['max_dist_ref'] = 100 # max distance (in meters) allowed from the reference shoreline"
   ]
  },
  {
   "cell_type": "markdown",
   "metadata": {
    "tags": []
   },
   "source": [
    "### Batch shoreline detection\n"
   ]
  },
  {
   "cell_type": "code",
   "execution_count": null,
   "metadata": {
    "scrolled": true,
    "tags": []
   },
   "outputs": [
    {
     "name": "stdout",
     "output_type": "stream",
     "text": [
      "Mapping shorelines:\n",
      "L8:   10%"
     ]
    }
   ],
   "source": [
    "%matplotlib qt\n",
    "output = SDS_shoreline.extract_shorelines(metadata, settings)"
   ]
  },
  {
   "cell_type": "code",
   "execution_count": null,
   "metadata": {
    "tags": []
   },
   "outputs": [
    {
     "name": "stdout",
     "output_type": "stream",
     "text": [
      "14 duplicates\n",
      "2 bad georef\n"
     ]
    }
   ],
   "source": [
    "output = SDS_tools.remove_duplicates(output) \n",
    "output = SDS_tools.remove_inaccurate_georef(output, 10) "
   ]
  },
  {
   "cell_type": "code",
   "execution_count": 14,
   "metadata": {
    "tags": []
   },
   "outputs": [
    {
     "name": "stdout",
     "output_type": "stream",
     "text": [
      "Saved spatial layer at B:\\Project Ocean\\CoastSat-master\\CoastSat-master\\data\\NARRA\\NARRA_output_lines.geojson\n"
     ]
    }
   ],
   "source": [
    "from pyproj import CRS\n",
    "geomtype = 'lines' # choose 'points' or 'lines' for the layer geometry\n",
    "gdf = SDS_tools.output_to_gdf(output, geomtype)\n",
    "if gdf is None:\n",
    "    raise Exception(\"output does not contain any mapped shorelines\")\n",
    "gdf.crs = CRS(settings['output_epsg']) # set layer projection\n",
    "# save GEOJSON layer to file\n",
    "fp_geojson = os.path.join(inputs['filepath'], inputs['sitename'], '%s_output_%s.geojson'%(sitename,geomtype))\n",
    "gdf.to_file(fp_geojson,driver='GeoJSON', encoding='utf-8')\n",
    "print('Saved spatial layer at %s'%fp_geojson)"
   ]
  },
  {
   "cell_type": "code",
   "execution_count": 15,
   "metadata": {
    "tags": []
   },
   "outputs": [
    {
     "name": "stdout",
     "output_type": "stream",
     "text": [
      "Animation has been generated (using 4 frames per second) and saved at B:\\Project Ocean\\CoastSat-master\\CoastSat-master\\data\\NARRA\\NARRA_animation_shorelines.gif\n"
     ]
    }
   ],
   "source": [
    "# create MP4 timelapse animation\n",
    "fn_animation = os.path.join(inputs['filepath'],inputs['sitename'], '%s_animation_shorelines.gif'%inputs['sitename'])\n",
    "fp_images = os.path.join(inputs['filepath'], inputs['sitename'], 'jpg_files', 'detection')\n",
    "fps = 4 # frames per second in animation\n",
    "SDS_tools.make_animation_mp4(fp_images, fps, fn_animation)"
   ]
  },
  {
   "cell_type": "code",
   "execution_count": 16,
   "metadata": {
    "tags": []
   },
   "outputs": [
    {
     "data": {
      "image/png": "[encoded data removed]",
      "text/plain": [
       "<Figure size 1500x800 with 1 Axes>"
      ]
     },
     "metadata": {},
     "output_type": "display_data"
    }
   ],
   "source": [
    "%matplotlib inline\n",
    "fig = plt.figure(figsize=[15,8])\n",
    "plt.axis('equal')\n",
    "plt.xlabel('Eastings')\n",
    "plt.ylabel('Northings')\n",
    "plt.grid(linestyle=':', color='0.5')\n",
    "for i in range(len(output['shorelines'])):\n",
    "    sl = output['shorelines'][i]\n",
    "    date = output['dates'][i]\n",
    "    plt.plot(sl[:,0], sl[:,1], '.', label=date.strftime('%d-%m-%Y'))\n",
    "# plt.legend();"
   ]
  },
  {
   "cell_type": "markdown",
   "metadata": {
    "jp-MarkdownHeadingCollapsed": true,
    "tags": []
   },
   "source": [
    "## Shoreline analysis\n"
   ]
  },
  {
   "cell_type": "code",
   "execution_count": 17,
   "metadata": {
    "tags": []
   },
   "outputs": [
    {
     "name": "stdout",
     "output_type": "stream",
     "text": [
      "14 duplicates\n",
      "2 bad georef\n"
     ]
    }
   ],
   "source": [
    "filepath = os.path.join(inputs['filepath'], sitename)\n",
    "with open(os.path.join(filepath, sitename + '_output' + '.pkl'), 'rb') as f:\n",
    "    output = pickle.load(f)\n",
    "# remove duplicates (images taken on the same date by the same satellite)\n",
    "output = SDS_tools.remove_duplicates(output)\n",
    "# remove inaccurate georeferencing (set threshold to 10 m)\n",
    "output = SDS_tools.remove_inaccurate_georef(output, 10)"
   ]
  },
  {
   "cell_type": "code",
   "execution_count": null,
   "metadata": {},
   "outputs": [
    {
     "name": "stdout",
     "output_type": "stream",
     "text": [
      "Transect locations saved in B:\\Project Ocean\\CoastSat-master\\CoastSat-master\\data\\NARRA\n"
     ]
    }
   ],
   "source": [
    "%matplotlib qt\n",
    "transects = SDS_transects.draw_transects(output, settings)"
   ]
  },
  {
   "cell_type": "code",
   "execution_count": 22,
   "metadata": {
    "tags": []
   },
   "outputs": [],
   "source": [
    "fig = plt.figure(figsize=[15,8], tight_layout=True)\n",
    "plt.axis('equal')\n",
    "plt.xlabel('Eastings')\n",
    "plt.ylabel('Northings')\n",
    "plt.grid(linestyle=':', color='0.5')\n",
    "for i in range(len(output['shorelines'])):\n",
    "    sl = output['shorelines'][i]\n",
    "    date = output['dates'][i]\n",
    "    plt.plot(sl[:,0], sl[:,1], '.', label=date.strftime('%d-%m-%Y'))\n",
    "for i,key in enumerate(list(transects.keys())):\n",
    "    plt.plot(transects[key][0,0],transects[key][0,1], 'bo', ms=5)\n",
    "    plt.plot(transects[key][:,0],transects[key][:,1],'k-',lw=1)\n",
    "    plt.text(transects[key][0,0]-100, transects[key][0,1]+100, key,\n",
    "                va='center', ha='right', bbox=dict(boxstyle=\"square\", ec='k',fc='w'))\n",
    "fig.savefig(os.path.join(filepath,'%s_mapped_shorelines.jpg'%sitename),dpi=200)"
   ]
  },
  {
   "cell_type": "code",
   "execution_count": 23,
   "metadata": {},
   "outputs": [],
   "source": [
    "# along-shore distance over which to consider shoreline points to compute the median intersection\n",
    "settings_transects = {'along_dist':25}\n",
    "cross_distance = SDS_transects.compute_intersection(output, transects, settings_transects) "
   ]
  },
  {
   "cell_type": "code",
   "execution_count": null,
   "metadata": {
    "tags": []
   },
   "outputs": [],
   "source": [
    "settings_transects = { # parameters for computing intersections\n",
    "                      'along_dist':          25,      \n",
    "                      'min_points':          3,        \n",
    "                      'max_std':             15,       \n",
    "                      'max_range':           30,      \n",
    "                      'min_chainage':        -100,      \n",
    "                      'multiple_inter':      'auto',   \n",
    "                      'auto_prc':            0.1,       \n",
    "                     }\n",
    "cross_distance = SDS_transects.compute_intersection_QC(output, transects, settings_transects) "
   ]
  },
  {
   "cell_type": "markdown",
   "metadata": {},
   "source": [
    "Plot the time-series of shoreline change along each transect"
   ]
  },
  {
   "cell_type": "code",
   "execution_count": 25,
   "metadata": {
    "tags": []
   },
   "outputs": [],
   "source": [
    "fig = plt.figure(figsize=[15,8], tight_layout=True)\n",
    "gs = gridspec.GridSpec(len(cross_distance),1)\n",
    "gs.update(left=0.05, right=0.95, bottom=0.05, top=0.95, hspace=0.05)\n",
    "for i,key in enumerate(cross_distance.keys()):\n",
    "    if np.all(np.isnan(cross_distance[key])):\n",
    "        continue\n",
    "    idx_nan = np.isnan(cross_distance[key])\n",
    "    dates = [output['dates'][_] for _ in np.where(~idx_nan)[0]]\n",
    "    chainage = cross_distance[key][~idx_nan]\n",
    "    ax = fig.add_subplot(gs[i,0])\n",
    "    ax.grid(linestyle=':', color='0.5')\n",
    "    ax.plot(dates, chainage, '-o', ms=6, mfc='w')\n",
    "    ax.set_ylabel('distance [m]', fontsize=12)\n",
    "    ax.text(0.5,0.95, key, bbox=dict(boxstyle=\"square\", ec='k',fc='w'), ha='center',\n",
    "            va='top', transform=ax.transAxes, fontsize=14)\n",
    "fig.savefig(os.path.join(filepath,'%s_timeseries_raw.jpg'%sitename),dpi=200)"
   ]
  },
  {
   "cell_type": "code",
   "execution_count": 29,
   "metadata": {
    "tags": []
   },
   "outputs": [
    {
     "name": "stdout",
     "output_type": "stream",
     "text": [
      "Time-series of the shoreline change along the transects saved as:\n",
      "B:\\Project Ocean\\CoastSat-master\\CoastSat-master\\data\\time_series_raw.csv\n"
     ]
    }
   ],
   "source": [
    "# save a .csv file for Excel users\n",
    "out_dict = dict([])\n",
    "out_dict['dates'] = output['dates']\n",
    "for key in transects.keys():\n",
    "    out_dict[key] = cross_distance[key]\n",
    "df = pd.DataFrame(out_dict)\n",
    "fn = r\"B:\\Project Ocean\\CoastSat-master\\CoastSat-master\\data\\time_series_raw.csv\"\n",
    "df.to_csv(fn, sep=',')\n",
    "print('Time-series of the shoreline change along the transects saved as:\\n%s'%fn)"
   ]
  },
  {
   "cell_type": "markdown",
   "metadata": {
    "jp-MarkdownHeadingCollapsed": true,
    "tags": []
   },
   "source": [
    "## Tidal correction\n"
   ]
  },
  {
   "cell_type": "markdown",
   "metadata": {},
   "source": [
    "Use Tidal data for correction of original time series"
   ]
  },
  {
   "cell_type": "code",
   "execution_count": 33,
   "metadata": {
    "tags": []
   },
   "outputs": [
    {
     "name": "stdout",
     "output_type": "stream",
     "text": [
      "Extracting closest points: 100%"
     ]
    }
   ],
   "source": [
    "# load the measured tide data\n",
    "filepath = r\"B:\\Project Ocean\\CoastSat-master\\CoastSat-master\\data\\NARRA_tides.csv\"\n",
    "tide_data = pd.read_csv(filepath)\n",
    "dates_ts = [pd.to_datetime(_).to_pydatetime() for _ in tide_data['dates']]\n",
    "tides_ts = np.array(tide_data['tide'])\n",
    "\n",
    "# get tide levels corresponding to the time of image acquisition\n",
    "dates_sat = output['dates']\n",
    "tides_sat = SDS_tools.get_closest_datapoint(dates_sat, dates_ts, tides_ts)\n",
    "\n",
    "# plot the subsampled tide data\n",
    "fig, ax = plt.subplots(1,1,figsize=(15,4), tight_layout=True)\n",
    "ax.grid(which='major', linestyle=':', color='0.5')\n",
    "ax.plot(dates_ts, tides_ts, '-', color='0.6', label='all time-series')\n",
    "ax.plot(dates_sat, tides_sat, '-o', color='k', ms=6, mfc='w',lw=1, label='image acquisition')\n",
    "ax.set(ylabel='tide level [m]',xlim=[dates_sat[0],dates_sat[-1]], title='Tide levels at the time of image acquisition');\n",
    "ax.legend()\n",
    "fig.savefig(r'B:\\Project Ocean\\CoastSat-master\\CoastSat-master\\data\\NARRA\\tide_timeseries.jpg',dpi=200)"
   ]
  },
  {
   "cell_type": "code",
   "execution_count": 34,
   "metadata": {
    "tags": []
   },
   "outputs": [
    {
     "name": "stdout",
     "output_type": "stream",
     "text": [
      "Tidally-corrected time-series of the shoreline change along the transects saved as:\n",
      "B:\\Project Ocean\\CoastSat-master\\CoastSat-master\\data\\Tidal\\transect_time_series_tidally_corrected.csv\n"
     ]
    }
   ],
   "source": [
    "# tidal correction along each transect\n",
    "reference_elevation = 0 # elevation at which you would like the shoreline time-series to be\n",
    "beach_slope = 0.1\n",
    "cross_distance_tidally_corrected = {}\n",
    "for key in cross_distance.keys():\n",
    "    correction = (tides_sat-reference_elevation)/beach_slope\n",
    "    cross_distance_tidally_corrected[key] = cross_distance[key] + correction\n",
    "    \n",
    "# store the tidally-corrected time-series in a .csv file\n",
    "out_dict = dict([])\n",
    "out_dict['dates'] = dates_sat\n",
    "for key in cross_distance_tidally_corrected.keys():\n",
    "    out_dict[key] = cross_distance_tidally_corrected[key]\n",
    "df = pd.DataFrame(out_dict)\n",
    "fn = r\"B:\\Project Ocean\\CoastSat-master\\CoastSat-master\\data\\Tidal\\transect_time_series_tidally_corrected.csv\"\n",
    "df.to_csv(fn, sep=',')\n",
    "print('Tidally-corrected time-series of the shoreline change along the transects saved as:\\n%s'%fn)\n",
    "\n",
    "# plot the time-series of shoreline change (both raw and tidally-corrected)\n",
    "fig = plt.figure(figsize=[15,8], tight_layout=True)\n",
    "gs = gridspec.GridSpec(len(cross_distance),1)\n",
    "gs.update(left=0.05, right=0.95, bottom=0.05, top=0.95, hspace=0.05)\n",
    "for i,key in enumerate(cross_distance.keys()):\n",
    "    if np.all(np.isnan(cross_distance[key])):\n",
    "        continue\n",
    "    idx_nan = np.isnan(cross_distance[key])\n",
    "    dates = [output['dates'][_] for _ in np.where(~idx_nan)[0]]\n",
    "    chainage = cross_distance[key][~idx_nan]\n",
    "    chainage_corrected = cross_distance_tidally_corrected[key][~idx_nan]\n",
    "    ax = fig.add_subplot(gs[i,0])\n",
    "    ax.grid(linestyle=':', color='0.5')\n",
    "    ax.plot(dates, chainage, '-o', ms=6, mfc='w', label='raw')\n",
    "    ax.plot(dates, chainage_corrected, '-o', ms=6, mfc='w', label='tidally-corrected')\n",
    "    ax.set_ylabel('distance [m]', fontsize=12)\n",
    "    ax.text(0.5,0.95, key, bbox=dict(boxstyle=\"square\", ec='k',fc='w'), ha='center',\n",
    "            va='top', transform=ax.transAxes, fontsize=14)\n",
    "ax.legend()\n",
    "fig.savefig(r'B:\\Project Ocean\\CoastSat-master\\CoastSat-master\\data\\Tidal\\timeseries_corrected.jpg',dpi=200)"
   ]
  },
  {
   "cell_type": "code",
   "execution_count": 37,
   "metadata": {},
   "outputs": [
    {
     "name": "stdout",
     "output_type": "stream",
     "text": [
      "Transect '1' - RMSE: 3.381 m\n",
      "Transect '2' - RMSE: 3.434 m\n",
      "Transect '3' - RMSE: 3.420 m\n",
      "Transect '4' - RMSE: 3.420 m\n",
      "Transect '5' - RMSE: 3.465 m\n",
      "Transect '6' - RMSE: 3.462 m\n",
      "Transect '7' - RMSE: 3.500 m\n",
      "Transect '8' - RMSE: 3.447 m\n",
      "RMSE values saved as CSV:\n",
      "B:\\Project Ocean\\CoastSat-master\\CoastSat-master\\data\\Tidal\\rmse_tidally_corrected.csv\n",
      "Transect '1':\n",
      "    Raw data:      min = 188.156 m, max = 255.338 m\n",
      "    Corrected data: min = 185.086 m, max = 257.095 m\n",
      "Transect '2':\n",
      "    Raw data:      min = 192.937 m, max = 254.550 m\n",
      "    Corrected data: min = 198.442 m, max = 250.813 m\n",
      "Transect '3':\n",
      "    Raw data:      min = 228.475 m, max = 282.178 m\n",
      "    Corrected data: min = 225.405 m, max = 278.441 m\n",
      "Transect '4':\n",
      "    Raw data:      min = 357.938 m, max = 423.501 m\n",
      "    Corrected data: min = 363.347 m, max = 419.764 m\n",
      "Transect '5':\n",
      "    Raw data:      min = 202.970 m, max = 264.544 m\n",
      "    Corrected data: min = 208.754 m, max = 261.489 m\n",
      "Transect '6':\n",
      "    Raw data:      min = 187.498 m, max = 249.858 m\n",
      "    Corrected data: min = 184.428 m, max = 246.803 m\n",
      "Transect '7':\n",
      "    Raw data:      min = 180.740 m, max = 235.896 m\n",
      "    Corrected data: min = 186.245 m, max = 235.506 m\n",
      "Transect '8':\n",
      "    Raw data:      min = 243.139 m, max = 309.337 m\n",
      "    Corrected data: min = 248.644 m, max = 311.161 m\n",
      "Transect statistics (min, max, RMSE) saved as CSV:\n",
      "B:\\Project Ocean\\CoastSat-master\\CoastSat-master\\data\\Tidal\\transect_stats.csv\n"
     ]
    }
   ],
   "source": [
    "import numpy as np\n",
    "import pandas as pd\n",
    "\n",
    "# --- Compute RMSE for each transect ---\n",
    "\n",
    "rmse_dict = {}\n",
    "\n",
    "for key in cross_distance.keys():\n",
    "    raw = cross_distance[key]\n",
    "    corrected = cross_distance_tidally_corrected[key]\n",
    "    \n",
    "    # Identify indices where both raw and corrected data are valid (non-NaN)\n",
    "    valid_idx = ~np.isnan(raw) & ~np.isnan(corrected)\n",
    "    \n",
    "    # Compute RMSE only if valid data exists; else, mark as NaN\n",
    "    if np.sum(valid_idx) == 0:\n",
    "        rmse = np.nan\n",
    "    else:\n",
    "        differences = raw[valid_idx] - corrected[valid_idx]\n",
    "        rmse = np.sqrt(np.mean(differences ** 2))\n",
    "    \n",
    "    rmse_dict[key] = rmse\n",
    "    print(f\"Transect '{key}' - RMSE: {rmse:.3f} m\")\n",
    "\n",
    "# Optionally, save the RMSE values into a CSV file\n",
    "rmse_df = pd.DataFrame(list(rmse_dict.items()), columns=['Transect', 'RMSE_m'])\n",
    "rmse_csv_path = r\"B:\\Project Ocean\\CoastSat-master\\CoastSat-master\\data\\Tidal\\rmse_tidally_corrected.csv\"\n",
    "rmse_df.to_csv(rmse_csv_path, index=False)\n",
    "print(f\"RMSE values saved as CSV:\\n{rmse_csv_path}\")\n",
    "\n",
    "# --- Find Min and Max distances for each transect for both raw and corrected data ---\n",
    "\n",
    "# Dictionaries to store min and max values\n",
    "min_raw = {}\n",
    "max_raw = {}\n",
    "min_corrected = {}\n",
    "max_corrected = {}\n",
    "\n",
    "for key in cross_distance.keys():\n",
    "    raw_data = cross_distance[key]\n",
    "    corrected_data = cross_distance_tidally_corrected[key]\n",
    "    \n",
    "    # np.nanmin and np.nanmax ignore NaN values.\n",
    "    # If an entire array is NaN these functions will raise an error. \n",
    "    # We can handle that by checking if all values are NaN.\n",
    "    if np.all(np.isnan(raw_data)):\n",
    "        min_raw[key] = np.nan\n",
    "        max_raw[key] = np.nan\n",
    "    else:\n",
    "        min_raw[key] = np.nanmin(raw_data)\n",
    "        max_raw[key] = np.nanmax(raw_data)\n",
    "    \n",
    "    if np.all(np.isnan(corrected_data)):\n",
    "        min_corrected[key] = np.nan\n",
    "        max_corrected[key] = np.nan\n",
    "    else:\n",
    "        min_corrected[key] = np.nanmin(corrected_data)\n",
    "        max_corrected[key] = np.nanmax(corrected_data)\n",
    "    \n",
    "    print(f\"Transect '{key}':\")\n",
    "    print(f\"    Raw data:      min = {min_raw[key]:.3f} m, max = {max_raw[key]:.3f} m\")\n",
    "    print(f\"    Corrected data: min = {min_corrected[key]:.3f} m, max = {max_corrected[key]:.3f} m\")\n",
    "\n",
    "# Optionally, create a DataFrame combining these statistics for further analysis or saving as CSV\n",
    "stats_df = pd.DataFrame({\n",
    "    'Transect': list(cross_distance.keys()),\n",
    "    'Raw_Min': [min_raw[k] for k in cross_distance.keys()],\n",
    "    'Raw_Max': [max_raw[k] for k in cross_distance.keys()],\n",
    "    'Corrected_Min': [min_corrected[k] for k in cross_distance.keys()],\n",
    "    'Corrected_Max': [max_corrected[k] for k in cross_distance.keys()],\n",
    "    'RMSE': [rmse_dict[k] for k in cross_distance.keys()]\n",
    "})\n",
    "stats_csv_path = r\"B:\\Project Ocean\\CoastSat-master\\CoastSat-master\\data\\Tidal\\transect_stats.csv\"\n",
    "stats_df.to_csv(stats_csv_path, index=False)\n",
    "print(f\"Transect statistics (min, max, RMSE) saved as CSV:\\n{stats_csv_path}\")\n"
   ]
  },
  {
   "cell_type": "markdown",
   "metadata": {
    "jp-MarkdownHeadingCollapsed": true
   },
   "source": [
    "## Validation against surveys"
   ]
  },
  {
   "cell_type": "markdown",
   "metadata": {},
   "source": [
    "Now compare the surveys to the satellite-derived shorelines from 2024 loaded previously."
   ]
  },
  {
   "cell_type": "code",
   "execution_count": 4,
   "metadata": {},
   "outputs": [
    {
     "name": "stdout",
     "output_type": "stream",
     "text": [
      "Loaded regenerated time-series data.\n",
      "Combined subplot image saved as b:\\Project Ocean\\CoastSat-master\\CoastSat-master\\original_data_plots\\original_all_transects_subplots.jpg\n"
     ]
    }
   ],
   "source": [
    "import os\n",
    "import numpy as np\n",
    "import pandas as pd\n",
    "import matplotlib.pyplot as plt\n",
    "\n",
    "# -------------------------------\n",
    "# File input/output settings\n",
    "# -------------------------------\n",
    "regen_csv = r\"B:\\Project Ocean\\CoastSat-master\\CoastSat-master\\data\\Originaldata.csv\"\n",
    "output_folder = os.path.join(os.getcwd(), 'original_data_plots')\n",
    "os.makedirs(output_folder, exist_ok=True)\n",
    "\n",
    "# -------------------------------\n",
    "# Load the CSV file\n",
    "# -------------------------------\n",
    "df_regen = pd.read_csv(regen_csv, parse_dates=['dates'])\n",
    "\n",
    "# Remove extra index column if present\n",
    "if \"Unnamed: 0\" in df_regen.columns:\n",
    "    df_regen.drop(columns=[\"Unnamed: 0\"], inplace=True)\n",
    "\n",
    "print(\"Loaded regenerated time-series data.\")\n",
    "\n",
    "# -------------------------------\n",
    "# Get transect keys\n",
    "# -------------------------------\n",
    "transect_keys = [col for col in df_regen.columns if col != 'dates']\n",
    "transect_keys = sorted(transect_keys, key=lambda x: int(x))\n",
    "n_transects = len(transect_keys)\n",
    "\n",
    "# -------------------------------\n",
    "# Set up subplots\n",
    "# -------------------------------\n",
    "cols = 3  # Number of columns in subplot grid\n",
    "rows = (n_transects + cols - 1) // cols  # Equivalent to ceil(n / cols) without importing math\n",
    "fig, axes = plt.subplots(rows, cols, figsize=(6 * cols, 4 * rows), sharex=True)\n",
    "axes = axes.flatten()\n",
    "\n",
    "# -------------------------------\n",
    "# Plot each transect in a subplot\n",
    "# -------------------------------\n",
    "for i, key in enumerate(transect_keys):\n",
    "    df_plot = df_regen[['dates', key]].dropna().sort_values('dates')\n",
    "    ax = axes[i]\n",
    "    ax.plot(df_plot['dates'], df_plot[key], '-', label=f'Transect {key}', linewidth=1.2)\n",
    "    ax.set_title(f\"Transect {key}\")\n",
    "    ax.set_ylabel(\"Shoreline Position [m]\")\n",
    "    ax.grid(True, linestyle=':', color='0.5')\n",
    "    ax.legend(fontsize='small')\n",
    "\n",
    "# Hide any unused subplots (if total plots < rows * cols)\n",
    "for j in range(i + 1, len(axes)):\n",
    "    fig.delaxes(axes[j])\n",
    "\n",
    "# -------------------------------\n",
    "# Final layout and save\n",
    "# -------------------------------\n",
    "fig.suptitle(\"Original Data Time Series - All Transects\", fontsize=16)\n",
    "fig.tight_layout(rect=[0, 0, 1, 0.96])  # Leave space for the main title\n",
    "plot_filename = os.path.join(output_folder, \"original_all_transects_subplots.jpg\")\n",
    "fig.savefig(plot_filename, dpi=150)\n",
    "plt.close()\n",
    "\n",
    "print(f\"Combined subplot image saved as {plot_filename}\")\n"
   ]
  },
  {
   "cell_type": "code",
   "execution_count": null,
   "metadata": {},
   "outputs": [
    {
     "name": "stdout",
     "output_type": "stream",
     "text": [
      "Loaded raw and regenerated time-series data.\n",
      "Transect 1: Plot saved as b:\\Project Ocean\\CoastSat-master\\CoastSat-master\\comparison_plots\\comparison_transect_1.jpg\n",
      "Transect 2: Plot saved as b:\\Project Ocean\\CoastSat-master\\CoastSat-master\\comparison_plots\\comparison_transect_2.jpg\n",
      "Transect 3: Plot saved as b:\\Project Ocean\\CoastSat-master\\CoastSat-master\\comparison_plots\\comparison_transect_3.jpg\n",
      "Transect 4: Plot saved as b:\\Project Ocean\\CoastSat-master\\CoastSat-master\\comparison_plots\\comparison_transect_4.jpg\n",
      "Transect 5: Plot saved as b:\\Project Ocean\\CoastSat-master\\CoastSat-master\\comparison_plots\\comparison_transect_5.jpg\n",
      "Transect 6: Plot saved as b:\\Project Ocean\\CoastSat-master\\CoastSat-master\\comparison_plots\\comparison_transect_6.jpg\n",
      "Transect 7: Plot saved as b:\\Project Ocean\\CoastSat-master\\CoastSat-master\\comparison_plots\\comparison_transect_7.jpg\n",
      "Transect 8: Plot saved as b:\\Project Ocean\\CoastSat-master\\CoastSat-master\\comparison_plots\\comparison_transect_8.jpg\n",
      "All comparison plots have been generated.\n"
     ]
    }
   ],
   "source": [
    "import os\n",
    "import numpy as np\n",
    "import pandas as pd\n",
    "import matplotlib.pyplot as plt\n",
    "import matplotlib.gridspec as gridspec\n",
    "from datetime import timedelta\n",
    "from scipy import interpolate, stats\n",
    "\n",
    "# -------------------------------\n",
    "# File input/output settings\n",
    "# -------------------------------\n",
    "raw_csv = r\"B:\\Project Ocean\\CoastSat-master\\CoastSat-master\\data\\time_series_raw.csv\"\n",
    "regen_csv = r\"B:\\Project Ocean\\CoastSat-master\\CoastSat-master\\data\\Originaldata.csv\"\n",
    "output_folder = os.path.join(os.getcwd(), 'comparison_plots')\n",
    "os.makedirs(output_folder, exist_ok=True)\n",
    "\n",
    "# -------------------------------\n",
    "# Load the CSV files\n",
    "# -------------------------------\n",
    "df_raw = pd.read_csv(raw_csv, parse_dates=['dates'])\n",
    "df_regen = pd.read_csv(regen_csv, parse_dates=['dates'])\n",
    "\n",
    "# Remove extra index column if present\n",
    "if \"Unnamed: 0\" in df_raw.columns:\n",
    "    df_raw.drop(columns=[\"Unnamed: 0\"], inplace=True)\n",
    "if \"Unnamed: 0\" in df_regen.columns:\n",
    "    df_regen.drop(columns=[\"Unnamed: 0\"], inplace=True)\n",
    "\n",
    "print(\"Loaded raw and regenerated time-series data.\")\n",
    "\n",
    "# -------------------------------\n",
    "# Set parameters for comparison\n",
    "# -------------------------------\n",
    "sett = {\n",
    "    'min_days': 3,    # If the nearest neighbor is less than 3 days away, use that point directly.\n",
    "    'max_days': 10,   # Maximum time difference in days to allow for a comparison.\n",
    "    'binwidth': 3,    # Binwidth for the error histogram.\n",
    "    'lims': [-50, 50] # Limits for error plotting.\n",
    "}\n",
    "\n",
    "# -------------------------------\n",
    "# Loop through each transect and generate plots\n",
    "# -------------------------------\n",
    "# Get transect keys (we assume all columns except \"dates\" are transect columns)\n",
    "transect_keys = [col for col in df_raw.columns if col != 'dates']\n",
    "# Order keys numerically if they are named \"1\", \"2\", etc.\n",
    "transect_keys = sorted(transect_keys, key=lambda x: int(x))\n",
    "\n",
    "for key in transect_keys:\n",
    "    # --- Merge the two datasets by date using nearest neighbour interpolation ---\n",
    "    # Both CSV files are assumed to have a \"dates\" column.\n",
    "    # Using merge_asof to get nearest date within 'max_days' tolerance.\n",
    "    df_raw_sorted = df_raw[['dates', key]].dropna().sort_values('dates')\n",
    "    df_regen_sorted = df_regen[['dates', key]].dropna().sort_values('dates')\n",
    "    \n",
    "    # Rename columns to distinguish raw and regenerated values\n",
    "    df_raw_sorted = df_raw_sorted.rename(columns={key: 'raw'})\n",
    "    df_regen_sorted = df_regen_sorted.rename(columns={key: 'regen'})\n",
    "    \n",
    "    # Use merge_asof with a tolerance (convert max_days to a Timedelta)\n",
    "    merged = pd.merge_asof(df_raw_sorted, df_regen_sorted, on='dates',\n",
    "                           direction='nearest', tolerance=pd.Timedelta(days=sett['max_days']))\n",
    "    # Drop rows where the regenerated value is missing after the merge.\n",
    "    merged = merged.dropna(subset=['raw', 'regen'])\n",
    "    \n",
    "    if merged.empty:\n",
    "        print(f\"No matching data for transect {key}. Skipping plot.\")\n",
    "        continue\n",
    "\n",
    "    dates_common = merged['dates']\n",
    "    chain_raw = merged['raw'].values\n",
    "    chain_regen = merged['regen'].values\n",
    "\n",
    "    # --- Plotting ---\n",
    "    fig = plt.figure(figsize=[15, 8], tight_layout=True)\n",
    "    gs = gridspec.GridSpec(2, 3)\n",
    "    \n",
    "    # (a) Time-series plot\n",
    "    ax0 = fig.add_subplot(gs[0, :])\n",
    "    ax0.grid(linestyle=':', color='0.5')\n",
    "    ax0.plot(dates_common, chain_raw, '-', mfc='w', ms=5, label='Raw')\n",
    "    ax0.plot(dates_common, chain_regen, '-', mfc='w', ms=5, label='Original measured')\n",
    "    ax0.set_title(f\"Transect {key}\")\n",
    "    ax0.legend()\n",
    "    \n",
    "    # Compute error statistics using raw as \"truth\" and regenerated as \"measurement\"\n",
    "    slope, intercept, r_value, p_value, std_err = stats.linregress(chain_raw, chain_regen)\n",
    "    R2 = r_value**2 \n",
    "    ax0.text(0.02, 0.95, f\"R² = {R2:.2f}\", transform=ax0.transAxes, bbox=dict(boxstyle='square', facecolor='w', alpha=1))\n",
    "    \n",
    "    chain_error = chain_regen - chain_raw\n",
    "    rmse = np.sqrt(np.mean(chain_error ** 2))\n",
    "    mean_error = np.mean(chain_error)\n",
    "    std_error = np.std(chain_error)\n",
    "    q90 = np.percentile(np.abs(chain_error), 90)\n",
    "\n",
    "    # (b) 1:1 Plot\n",
    "    ax1 = fig.add_subplot(gs[1, 0])\n",
    "    ax1.axis('equal')\n",
    "    ax1.grid(linestyle=':', color='0.5')\n",
    "    ax1.plot(chain_raw, chain_regen, 'o', ms=4, mfc='C0', mec='C0', alpha=0.7)\n",
    "    # Plot 1:1 line\n",
    "    min_val = min(np.min(chain_raw), np.min(chain_regen))\n",
    "    max_val = max(np.max(chain_raw), np.max(chain_regen))\n",
    "    ax1.plot([min_val, max_val], [min_val, max_val], 'k--', lw=2)\n",
    "    ax1.set_xlabel('Raw [m]')\n",
    "    ax1.set_ylabel('Regenerated [m]')\n",
    "    \n",
    "    # (c) Boxplot of errors\n",
    "    ax2 = fig.add_subplot(gs[1, 1])\n",
    "    ax2.yaxis.grid(True)\n",
    "    bp = ax2.boxplot(chain_error, patch_artist=True, labels=[f\"Transect {key}\"])\n",
    "    for median in bp['medians']:\n",
    "        median.set(color='k', linewidth=1.5)\n",
    "    ax2.set_ylabel('Error [m]')\n",
    "    ax2.set_ylim(sett['lims'])\n",
    "    \n",
    "    # (d) Histogram of errors\n",
    "    ax3 = fig.add_subplot(gs[1, 2])\n",
    "    ax3.grid(linestyle=':', color='0.5')\n",
    "    ax3.axvline(x=0, ls='--', lw=1.5, color='k')\n",
    "    binwidth = sett['binwidth']\n",
    "    bins = np.arange(np.min(chain_error), np.max(chain_error) + binwidth, binwidth)\n",
    "    ax3.hist(chain_error, bins=bins, density=True, color='0.6', edgecolor='k', alpha=0.5)\n",
    "    mu, sigma = stats.norm.fit(chain_error)\n",
    "    xlims = ax3.get_xlim()\n",
    "    x_vals = np.linspace(xlims[0], xlims[1], 100)\n",
    "    p = stats.norm.pdf(x_vals, mu, sigma)\n",
    "    ax3.plot(x_vals, p, 'r-', linewidth=1)\n",
    "    ax3.set_xlabel('Error [m]')\n",
    "    ax3.set_ylabel('PDF')\n",
    "    ax3.set_xlim(sett['lims'])\n",
    "    ax3.text(0.02, 0.98, f\"rmse = {rmse:.1f}\\nmean = {mean_error:.1f}\\nstd = {std_error:.1f}\\nq90 = {q90:.1f}\",\n",
    "             transform=ax3.transAxes, va='top')\n",
    "    \n",
    "    # Save the figure\n",
    "    plot_filename = os.path.join(output_folder, f\"comparison_transect_{key}.jpg\")\n",
    "    fig.savefig(plot_filename, dpi=150)\n",
    "    plt.close(fig)\n",
    "    \n",
    "    print(f\"Transect {key}: Plot saved as {plot_filename}\")\n",
    "\n",
    "print(\"All comparison plots have been generated.\")\n"
   ]
  }
 ],
 "metadata": {
  "kernelspec": {
   "display_name": "base",
   "language": "python",
   "name": "python3"
  },
  "language_info": {
   "codemirror_mode": {
    "name": "ipython",
    "version": 3
   },
   "file_extension": ".py",
   "mimetype": "text/x-python",
   "name": "python",
   "nbconvert_exporter": "python",
   "pygments_lexer": "ipython3",
   "version": "3.12.9"
  },
  "toc": {
   "base_numbering": 1,
   "nav_menu": {},
   "number_sections": true,
   "sideBar": true,
   "skip_h1_title": false,
   "title_cell": "Table of Contents",
   "title_sidebar": "Contents",
   "toc_cell": false,
   "toc_position": {},
   "toc_section_display": true,
   "toc_window_display": false
  },
  "varInspector": {
   "cols": {
    "lenName": 16,
    "lenType": 16,
    "lenVar": 40
   },
   "kernels_config": {
    "python": {
     "delete_cmd_postfix": "",
     "delete_cmd_prefix": "del ",
     "library": "var_list.py",
     "varRefreshCmd": "print(var_dic_list())"
    },
    "r": {
     "delete_cmd_postfix": ") ",
     "delete_cmd_prefix": "rm(",
     "library": "var_list.r",
     "varRefreshCmd": "cat(var_dic_list()) "
    }
   },
   "types_to_exclude": [
    "module",
    "function",
    "builtin_function_or_method",
    "instance",
    "_Feature"
   ],
   "window_display": false
  }
 },
 "nbformat": 4,
 "nbformat_minor": 4
}
